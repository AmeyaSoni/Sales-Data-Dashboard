{
 "cells": [
  {
   "cell_type": "code",
   "execution_count": 11,
   "id": "61ad15df",
   "metadata": {},
   "outputs": [],
   "source": [
    "import pandas as pd\n",
    "import numpy as np\n",
    "import matplotlib.pyplot as plt\n",
    "import seaborn as sns"
   ]
  },
  {
   "cell_type": "code",
   "execution_count": 3,
   "id": "5544de38",
   "metadata": {},
   "outputs": [],
   "source": [
    "df = pd.read_csv(\"Walmart_Sales.csv\")"
   ]
  },
  {
   "cell_type": "code",
   "execution_count": 5,
   "id": "b6edcb5f",
   "metadata": {},
   "outputs": [
    {
     "data": {
      "text/plain": [
       "(6435, 8)"
      ]
     },
     "execution_count": 5,
     "metadata": {},
     "output_type": "execute_result"
    }
   ],
   "source": [
    "df.shape"
   ]
  },
  {
   "cell_type": "code",
   "execution_count": 6,
   "id": "e87d37f2",
   "metadata": {},
   "outputs": [
    {
     "name": "stdout",
     "output_type": "stream",
     "text": [
      "<class 'pandas.core.frame.DataFrame'>\n",
      "RangeIndex: 6435 entries, 0 to 6434\n",
      "Data columns (total 8 columns):\n",
      " #   Column        Non-Null Count  Dtype  \n",
      "---  ------        --------------  -----  \n",
      " 0   Store         6435 non-null   int64  \n",
      " 1   Date          6435 non-null   object \n",
      " 2   Weekly_Sales  6435 non-null   float64\n",
      " 3   Holiday_Flag  6435 non-null   int64  \n",
      " 4   Temperature   6435 non-null   float64\n",
      " 5   Fuel_Price    6435 non-null   float64\n",
      " 6   CPI           6435 non-null   float64\n",
      " 7   Unemployment  6435 non-null   float64\n",
      "dtypes: float64(5), int64(2), object(1)\n",
      "memory usage: 402.3+ KB\n"
     ]
    }
   ],
   "source": [
    "df.info()"
   ]
  },
  {
   "cell_type": "code",
   "execution_count": 9,
   "id": "e69bd45f",
   "metadata": {},
   "outputs": [
    {
     "data": {
      "text/html": [
       "<div>\n",
       "<style scoped>\n",
       "    .dataframe tbody tr th:only-of-type {\n",
       "        vertical-align: middle;\n",
       "    }\n",
       "\n",
       "    .dataframe tbody tr th {\n",
       "        vertical-align: top;\n",
       "    }\n",
       "\n",
       "    .dataframe thead th {\n",
       "        text-align: right;\n",
       "    }\n",
       "</style>\n",
       "<table border=\"1\" class=\"dataframe\">\n",
       "  <thead>\n",
       "    <tr style=\"text-align: right;\">\n",
       "      <th></th>\n",
       "      <th>Store</th>\n",
       "      <th>Weekly_Sales</th>\n",
       "      <th>Holiday_Flag</th>\n",
       "      <th>Temperature</th>\n",
       "      <th>Fuel_Price</th>\n",
       "      <th>CPI</th>\n",
       "      <th>Unemployment</th>\n",
       "    </tr>\n",
       "  </thead>\n",
       "  <tbody>\n",
       "    <tr>\n",
       "      <th>count</th>\n",
       "      <td>6435.000000</td>\n",
       "      <td>6.435000e+03</td>\n",
       "      <td>6435.000000</td>\n",
       "      <td>6435.000000</td>\n",
       "      <td>6435.000000</td>\n",
       "      <td>6435.000000</td>\n",
       "      <td>6435.000000</td>\n",
       "    </tr>\n",
       "    <tr>\n",
       "      <th>mean</th>\n",
       "      <td>23.000000</td>\n",
       "      <td>1.046965e+06</td>\n",
       "      <td>0.069930</td>\n",
       "      <td>60.663782</td>\n",
       "      <td>3.358607</td>\n",
       "      <td>171.578394</td>\n",
       "      <td>7.999151</td>\n",
       "    </tr>\n",
       "    <tr>\n",
       "      <th>std</th>\n",
       "      <td>12.988182</td>\n",
       "      <td>5.643666e+05</td>\n",
       "      <td>0.255049</td>\n",
       "      <td>18.444933</td>\n",
       "      <td>0.459020</td>\n",
       "      <td>39.356712</td>\n",
       "      <td>1.875885</td>\n",
       "    </tr>\n",
       "    <tr>\n",
       "      <th>min</th>\n",
       "      <td>1.000000</td>\n",
       "      <td>2.099862e+05</td>\n",
       "      <td>0.000000</td>\n",
       "      <td>-2.060000</td>\n",
       "      <td>2.472000</td>\n",
       "      <td>126.064000</td>\n",
       "      <td>3.879000</td>\n",
       "    </tr>\n",
       "    <tr>\n",
       "      <th>25%</th>\n",
       "      <td>12.000000</td>\n",
       "      <td>5.533501e+05</td>\n",
       "      <td>0.000000</td>\n",
       "      <td>47.460000</td>\n",
       "      <td>2.933000</td>\n",
       "      <td>131.735000</td>\n",
       "      <td>6.891000</td>\n",
       "    </tr>\n",
       "    <tr>\n",
       "      <th>50%</th>\n",
       "      <td>23.000000</td>\n",
       "      <td>9.607460e+05</td>\n",
       "      <td>0.000000</td>\n",
       "      <td>62.670000</td>\n",
       "      <td>3.445000</td>\n",
       "      <td>182.616521</td>\n",
       "      <td>7.874000</td>\n",
       "    </tr>\n",
       "    <tr>\n",
       "      <th>75%</th>\n",
       "      <td>34.000000</td>\n",
       "      <td>1.420159e+06</td>\n",
       "      <td>0.000000</td>\n",
       "      <td>74.940000</td>\n",
       "      <td>3.735000</td>\n",
       "      <td>212.743293</td>\n",
       "      <td>8.622000</td>\n",
       "    </tr>\n",
       "    <tr>\n",
       "      <th>max</th>\n",
       "      <td>45.000000</td>\n",
       "      <td>3.818686e+06</td>\n",
       "      <td>1.000000</td>\n",
       "      <td>100.140000</td>\n",
       "      <td>4.468000</td>\n",
       "      <td>227.232807</td>\n",
       "      <td>14.313000</td>\n",
       "    </tr>\n",
       "  </tbody>\n",
       "</table>\n",
       "</div>"
      ],
      "text/plain": [
       "             Store  Weekly_Sales  Holiday_Flag  Temperature   Fuel_Price  \\\n",
       "count  6435.000000  6.435000e+03   6435.000000  6435.000000  6435.000000   \n",
       "mean     23.000000  1.046965e+06      0.069930    60.663782     3.358607   \n",
       "std      12.988182  5.643666e+05      0.255049    18.444933     0.459020   \n",
       "min       1.000000  2.099862e+05      0.000000    -2.060000     2.472000   \n",
       "25%      12.000000  5.533501e+05      0.000000    47.460000     2.933000   \n",
       "50%      23.000000  9.607460e+05      0.000000    62.670000     3.445000   \n",
       "75%      34.000000  1.420159e+06      0.000000    74.940000     3.735000   \n",
       "max      45.000000  3.818686e+06      1.000000   100.140000     4.468000   \n",
       "\n",
       "               CPI  Unemployment  \n",
       "count  6435.000000   6435.000000  \n",
       "mean    171.578394      7.999151  \n",
       "std      39.356712      1.875885  \n",
       "min     126.064000      3.879000  \n",
       "25%     131.735000      6.891000  \n",
       "50%     182.616521      7.874000  \n",
       "75%     212.743293      8.622000  \n",
       "max     227.232807     14.313000  "
      ]
     },
     "execution_count": 9,
     "metadata": {},
     "output_type": "execute_result"
    }
   ],
   "source": [
    "df.describe()"
   ]
  },
  {
   "cell_type": "code",
   "execution_count": 12,
   "id": "f1947feb",
   "metadata": {},
   "outputs": [
    {
     "data": {
      "text/plain": [
       "(array([170., 362., 292., 383., 490., 343., 256., 231., 220., 317., 361.,\n",
       "        239., 211., 229., 230., 270., 275., 192., 175., 137., 106., 107.,\n",
       "        143., 179., 133., 131.,  83.,  58.,  30.,  12.,  11.,  10.,   5.,\n",
       "          8.,   4.,  10.,   4.,   4.,   1.,   1.,   0.,   1.,   0.,   1.,\n",
       "          1.,   2.,   3.,   0.,   1.,   3.]),\n",
       " array([ 209986.25 ,  282160.254,  354334.258,  426508.262,  498682.266,\n",
       "         570856.27 ,  643030.274,  715204.278,  787378.282,  859552.286,\n",
       "         931726.29 , 1003900.294, 1076074.298, 1148248.302, 1220422.306,\n",
       "        1292596.31 , 1364770.314, 1436944.318, 1509118.322, 1581292.326,\n",
       "        1653466.33 , 1725640.334, 1797814.338, 1869988.342, 1942162.346,\n",
       "        2014336.35 , 2086510.354, 2158684.358, 2230858.362, 2303032.366,\n",
       "        2375206.37 , 2447380.374, 2519554.378, 2591728.382, 2663902.386,\n",
       "        2736076.39 , 2808250.394, 2880424.398, 2952598.402, 3024772.406,\n",
       "        3096946.41 , 3169120.414, 3241294.418, 3313468.422, 3385642.426,\n",
       "        3457816.43 , 3529990.434, 3602164.438, 3674338.442, 3746512.446,\n",
       "        3818686.45 ]),\n",
       " <BarContainer object of 50 artists>)"
      ]
     },
     "execution_count": 12,
     "metadata": {},
     "output_type": "execute_result"
    },
    {
     "data": {
      "image/png": "[encoded data removed]",
      "text/plain": [
       "<Figure size 640x480 with 1 Axes>"
      ]
     },
     "metadata": {},
     "output_type": "display_data"
    }
   ],
   "source": [
    "plt.hist(df['Weekly_Sales'], bins=50)"
   ]
  },
  {
   "cell_type": "code",
   "execution_count": null,
   "id": "5a30f2b9",
   "metadata": {},
   "outputs": [],
   "source": [
    "df['Weekly_Sales_log'] = np.log(df['Weekly_Sales'] + 1)  # +1 to avoid log(0)\n",
    "df.drop(columns=['Weekly_Sales'], inplace = True)"
   ]
  },
  {
   "cell_type": "code",
   "execution_count": 19,
   "id": "d7705e80",
   "metadata": {},
   "outputs": [
    {
     "data": {
      "text/plain": [
       "(array([  5.,  15.,  38.,  33.,  67., 103.,  98.,  78.,  92.,  82.,  76.,\n",
       "        103., 150., 133., 149., 240., 203., 168., 155., 159., 123., 139.,\n",
       "        143., 140., 204., 251., 292., 193., 202., 196., 231., 261., 314.,\n",
       "        236., 203., 166., 152., 234., 229., 189.,  97.,  27.,  17.,  15.,\n",
       "         15.,   6.,   1.,   2.,   6.,   4.]),\n",
       " array([12.25480209, 12.3128144 , 12.3708267 , 12.42883901, 12.48685131,\n",
       "        12.54486362, 12.60287592, 12.66088823, 12.71890053, 12.77691283,\n",
       "        12.83492514, 12.89293744, 12.95094975, 13.00896205, 13.06697436,\n",
       "        13.12498666, 13.18299897, 13.24101127, 13.29902358, 13.35703588,\n",
       "        13.41504818, 13.47306049, 13.53107279, 13.5890851 , 13.6470974 ,\n",
       "        13.70510971, 13.76312201, 13.82113432, 13.87914662, 13.93715893,\n",
       "        13.99517123, 14.05318354, 14.11119584, 14.16920814, 14.22722045,\n",
       "        14.28523275, 14.34324506, 14.40125736, 14.45926967, 14.51728197,\n",
       "        14.57529428, 14.63330658, 14.69131889, 14.74933119, 14.80734349,\n",
       "        14.8653558 , 14.9233681 , 14.98138041, 15.03939271, 15.09740502,\n",
       "        15.15541732]),\n",
       " <BarContainer object of 50 artists>)"
      ]
     },
     "execution_count": 19,
     "metadata": {},
     "output_type": "execute_result"
    },
    {
     "data": {
      "image/png": "[encoded data removed]",
      "text/plain": [
       "<Figure size 640x480 with 1 Axes>"
      ]
     },
     "metadata": {},
     "output_type": "display_data"
    }
   ],
   "source": [
    "plt.hist(df['Weekly_Sales_log'], bins=50)"
   ]
  },
  {
   "cell_type": "code",
   "execution_count": null,
   "id": "62c8fc07",
   "metadata": {},
   "outputs": [],
   "source": []
  },
  {
   "cell_type": "code",
   "execution_count": 26,
   "id": "3c144958",
   "metadata": {},
   "outputs": [
    {
     "name": "stderr",
     "output_type": "stream",
     "text": [
      "C:\\Users\\ROG\\AppData\\Local\\Temp\\ipykernel_29096\\1878226884.py:16: SettingWithCopyWarning: \n",
      "A value is trying to be set on a copy of a slice from a DataFrame.\n",
      "Try using .loc[row_indexer,col_indexer] = value instead\n",
      "\n",
      "See the caveats in the documentation: https://pandas.pydata.org/pandas-docs/stable/user_guide/indexing.html#returning-a-view-versus-a-copy\n",
      "  X_reg[col] = LabelEncoder().fit_transform(X_reg[col])\n",
      "C:\\Users\\ROG\\AppData\\Local\\Temp\\ipykernel_29096\\1878226884.py:29: SettingWithCopyWarning: \n",
      "A value is trying to be set on a copy of a slice from a DataFrame.\n",
      "Try using .loc[row_indexer,col_indexer] = value instead\n",
      "\n",
      "See the caveats in the documentation: https://pandas.pydata.org/pandas-docs/stable/user_guide/indexing.html#returning-a-view-versus-a-copy\n",
      "  X_class[col] = LabelEncoder().fit_transform(X_class[col])\n"
     ]
    }
   ],
   "source": [
    "# Prepare data for regression and classification tasks\n",
    "from sklearn.model_selection import train_test_split\n",
    "from sklearn.preprocessing import LabelEncoder\n",
    "\n",
    "# Drop any rows with missing values for simplicity\n",
    "reg_df = df.dropna()\n",
    "\n",
    "# Regression target: Weekly_Sales_log\n",
    "reg_target = 'Weekly_Sales_log'\n",
    "reg_features = [col for col in reg_df.columns if col != reg_target]\n",
    "X_reg = reg_df[reg_features]\n",
    "y_reg = reg_df[reg_target]\n",
    "\n",
    "# Encode categorical features for regression\n",
    "for col in X_reg.select_dtypes(include=['object']).columns:\n",
    "    X_reg[col] = LabelEncoder().fit_transform(X_reg[col])\n",
    "\n",
    "X_train_reg, X_test_reg, y_train_reg, y_test_reg = train_test_split(X_reg, y_reg, test_size=0.2, random_state=42)\n",
    "\n",
    "# Classification target: Create a binary target (e.g., above/below median sales)\n",
    "median_sales = reg_df[reg_target].median()\n",
    "reg_df['High_Sales'] = (reg_df[reg_target] > median_sales).astype(int)\n",
    "class_target = 'High_Sales'\n",
    "class_features = [col for col in reg_df.columns if col not in [reg_target, class_target]]\n",
    "X_class = reg_df[class_features]\n",
    "y_class = reg_df[class_target]\n",
    "\n",
    "for col in X_class.select_dtypes(include=['object']).columns:\n",
    "    X_class[col] = LabelEncoder().fit_transform(X_class[col])\n",
    "\n",
    "X_train_class, X_test_class, y_train_class, y_test_class = train_test_split(X_class, y_class, test_size=0.2, random_state=42)"
   ]
  },
  {
   "cell_type": "code",
   "execution_count": 27,
   "id": "c5840bd9",
   "metadata": {},
   "outputs": [
    {
     "data": {
      "text/plain": [
       "{'Linear Regression': 0.7199231669227435,\n",
       " 'Decision Tree': 0.9600144729455875,\n",
       " 'Random Forest': 0.9784272950059365,\n",
       " 'Gradient Boosting': 0.9450187576455319,\n",
       " 'Support Vector Regressor': 0.3247550588463267}"
      ]
     },
     "execution_count": 27,
     "metadata": {},
     "output_type": "execute_result"
    }
   ],
   "source": [
    "# Train regression models and compare R2 scores\n",
    "from sklearn.linear_model import LinearRegression\n",
    "from sklearn.tree import DecisionTreeRegressor\n",
    "from sklearn.ensemble import RandomForestRegressor, GradientBoostingRegressor\n",
    "from sklearn.svm import SVR\n",
    "from sklearn.metrics import r2_score\n",
    "\n",
    "regressors = {\n",
    "    'Linear Regression': LinearRegression(),\n",
    "    'Decision Tree': DecisionTreeRegressor(),\n",
    "    'Random Forest': RandomForestRegressor(),\n",
    "    'Gradient Boosting': GradientBoostingRegressor(),\n",
    "    'Support Vector Regressor': SVR()\n",
    "}\n",
    "\n",
    "reg_results = {}\n",
    "for name, model in regressors.items():\n",
    "    model.fit(X_train_reg, y_train_reg)\n",
    "    y_pred = model.predict(X_test_reg)\n",
    "    reg_results[name] = r2_score(y_test_reg, y_pred)\n",
    "\n",
    "reg_results"
   ]
  },
  {
   "cell_type": "code",
   "execution_count": 28,
   "id": "efe00b2d",
   "metadata": {},
   "outputs": [
    {
     "data": {
      "text/plain": [
       "{'Logistic Regression': 1.0,\n",
       " 'Decision Tree Classifier': 1.0,\n",
       " 'Random Forest Classifier': 1.0,\n",
       " 'Gradient Boosting Classifier': 1.0,\n",
       " 'Support Vector Classifier': -0.28677621283255106}"
      ]
     },
     "execution_count": 28,
     "metadata": {},
     "output_type": "execute_result"
    }
   ],
   "source": [
    "# Train classification models and compare R2 scores\n",
    "from sklearn.linear_model import LogisticRegression\n",
    "from sklearn.tree import DecisionTreeClassifier\n",
    "from sklearn.ensemble import RandomForestClassifier, GradientBoostingClassifier\n",
    "from sklearn.svm import SVC\n",
    "\n",
    "classifiers = {\n",
    "    'Logistic Regression': LogisticRegression(max_iter=1000),\n",
    "    'Decision Tree Classifier': DecisionTreeClassifier(),\n",
    "    'Random Forest Classifier': RandomForestClassifier(),\n",
    "    'Gradient Boosting Classifier': GradientBoostingClassifier(),\n",
    "    'Support Vector Classifier': SVC()\n",
    "}\n",
    "\n",
    "class_results = {}\n",
    "for name, model in classifiers.items():\n",
    "    model.fit(X_train_class, y_train_class)\n",
    "    y_pred = model.predict(X_test_class)\n",
    "    # For classification, use R2 score for comparison as requested\n",
    "    class_results[name] = r2_score(y_test_class, y_pred)\n",
    "\n",
    "class_results"
   ]
  },
  {
   "cell_type": "code",
   "execution_count": 29,
   "id": "a503d598",
   "metadata": {},
   "outputs": [
    {
     "data": {
      "text/html": [
       "<div>\n",
       "<style scoped>\n",
       "    .dataframe tbody tr th:only-of-type {\n",
       "        vertical-align: middle;\n",
       "    }\n",
       "\n",
       "    .dataframe tbody tr th {\n",
       "        vertical-align: top;\n",
       "    }\n",
       "\n",
       "    .dataframe thead th {\n",
       "        text-align: right;\n",
       "    }\n",
       "</style>\n",
       "<table border=\"1\" class=\"dataframe\">\n",
       "  <thead>\n",
       "    <tr style=\"text-align: right;\">\n",
       "      <th></th>\n",
       "      <th>Regression Models</th>\n",
       "      <th>Classification Models</th>\n",
       "    </tr>\n",
       "  </thead>\n",
       "  <tbody>\n",
       "    <tr>\n",
       "      <th>Linear Regression</th>\n",
       "      <td>0.719923</td>\n",
       "      <td>NaN</td>\n",
       "    </tr>\n",
       "    <tr>\n",
       "      <th>Decision Tree</th>\n",
       "      <td>0.960014</td>\n",
       "      <td>NaN</td>\n",
       "    </tr>\n",
       "    <tr>\n",
       "      <th>Random Forest</th>\n",
       "      <td>0.978427</td>\n",
       "      <td>NaN</td>\n",
       "    </tr>\n",
       "    <tr>\n",
       "      <th>Gradient Boosting</th>\n",
       "      <td>0.945019</td>\n",
       "      <td>NaN</td>\n",
       "    </tr>\n",
       "    <tr>\n",
       "      <th>Support Vector Regressor</th>\n",
       "      <td>0.324755</td>\n",
       "      <td>NaN</td>\n",
       "    </tr>\n",
       "    <tr>\n",
       "      <th>Logistic Regression</th>\n",
       "      <td>NaN</td>\n",
       "      <td>1.000000</td>\n",
       "    </tr>\n",
       "    <tr>\n",
       "      <th>Decision Tree Classifier</th>\n",
       "      <td>NaN</td>\n",
       "      <td>1.000000</td>\n",
       "    </tr>\n",
       "    <tr>\n",
       "      <th>Random Forest Classifier</th>\n",
       "      <td>NaN</td>\n",
       "      <td>1.000000</td>\n",
       "    </tr>\n",
       "    <tr>\n",
       "      <th>Gradient Boosting Classifier</th>\n",
       "      <td>NaN</td>\n",
       "      <td>1.000000</td>\n",
       "    </tr>\n",
       "    <tr>\n",
       "      <th>Support Vector Classifier</th>\n",
       "      <td>NaN</td>\n",
       "      <td>-0.286776</td>\n",
       "    </tr>\n",
       "  </tbody>\n",
       "</table>\n",
       "</div>"
      ],
      "text/plain": [
       "                              Regression Models  Classification Models\n",
       "Linear Regression                      0.719923                    NaN\n",
       "Decision Tree                          0.960014                    NaN\n",
       "Random Forest                          0.978427                    NaN\n",
       "Gradient Boosting                      0.945019                    NaN\n",
       "Support Vector Regressor               0.324755                    NaN\n",
       "Logistic Regression                         NaN               1.000000\n",
       "Decision Tree Classifier                    NaN               1.000000\n",
       "Random Forest Classifier                    NaN               1.000000\n",
       "Gradient Boosting Classifier                NaN               1.000000\n",
       "Support Vector Classifier                   NaN              -0.286776"
      ]
     },
     "execution_count": 29,
     "metadata": {},
     "output_type": "execute_result"
    }
   ],
   "source": [
    "# Display comparison of R2 scores for all models\n",
    "import pandas as pd\n",
    "\n",
    "results_df = pd.DataFrame({\n",
    "    'Regression Models': reg_results,\n",
    "    'Classification Models': class_results\n",
    "})\n",
    "results_df"
   ]
  },
  {
   "cell_type": "code",
   "execution_count": 32,
   "id": "a66c88d3",
   "metadata": {},
   "outputs": [
    {
     "data": {
      "text/plain": [
       "['model.pkl']"
      ]
     },
     "execution_count": 32,
     "metadata": {},
     "output_type": "execute_result"
    }
   ],
   "source": [
    "# Save both models in a single file\n",
    "from joblib import dump\n",
    "models = {'regressor': rf_reg, 'classifier': gb_clf}\n",
    "dump(models, 'model.pkl')"
   ]
  }
 ],
 "metadata": {
  "kernelspec": {
   "display_name": "Python 3",
   "language": "python",
   "name": "python3"
  },
  "language_info": {
   "codemirror_mode": {
    "name": "ipython",
    "version": 3
   },
   "file_extension": ".py",
   "mimetype": "text/x-python",
   "name": "python",
   "nbconvert_exporter": "python",
   "pygments_lexer": "ipython3",
   "version": "3.10.0"
  }
 },
 "nbformat": 4,
 "nbformat_minor": 5
}
